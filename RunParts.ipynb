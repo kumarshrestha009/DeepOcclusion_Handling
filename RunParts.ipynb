{
 "cells": [
  {
   "cell_type": "code",
   "execution_count": 1,
   "metadata": {},
   "outputs": [
    {
     "name": "stderr",
     "output_type": "stream",
     "text": [
      "/home/kumar/anaconda3/envs/py27/lib/python2.7/site-packages/matplotlib/colors.py:680: MatplotlibDeprecationWarning: The is_string_like function was deprecated in version 2.1.\n",
      "  not cbook.is_string_like(colors[0]):\n",
      "ERROR (theano.sandbox.cuda): nvcc compiler not found on $PATH. Check your nvcc installation and try again.\n"
     ]
    }
   ],
   "source": [
    "import matplotlib\n",
    "matplotlib.use(\"nbagg\")\n",
    "import math\n",
    "import numpy as np\n",
    "import matplotlib.pyplot as plt\n",
    "import cv2\n",
    "import re, os, glob, pickle, shutil,sys\n",
    "from random import randint\n",
    "import time\n",
    "from shutil import *\n",
    "\n",
    "os.environ[\"THEANO_FLAGS\"] = \"mode=FAST_RUN,device=gpu3,floatX=float32\"\n",
    "import theano\n",
    "import theano.tensor as T\n",
    "from theano import *\n",
    "theano.__version__\n",
    "from theano.sandbox.cuda import dnn\n",
    "\n",
    "import pandas as pd\n",
    "from theano import tensor as T\n",
    "from theano.sandbox.rng_mrg import MRG_RandomStreams as RandomStreams\n",
    "\n",
    "\n",
    "from theano.compile.nanguardmode import NanGuardMode\n",
    "\n",
    "#from pom_funcs import *\n",
    "from pom_room import POM_room\n",
    "from pom_evaluator import POM_evaluator\n",
    "import POMLayers1\n",
    "from EM_funcs import *\n",
    "import ZtoY\n",
    "config.allow_gc =False\n",
    "\n",
    "%load_ext autoreload\n",
    "%autoreload 2\n",
    "\n",
    "\n",
    "import Config"
   ]
  },
  {
   "cell_type": "code",
   "execution_count": null,
   "metadata": {},
   "outputs": [
    {
     "name": "stderr",
     "output_type": "stream",
     "text": [
      "GaussianNet.py:146: UserWarning: theano.function was asked to create a function computing outputs given certain inputs, but the provided input variable at index 2 is not part of the computational graph needed to compute the outputs: dropout.\n",
      "To make this warning into an error, you can pass the parameter on_unused_input='raise' to theano.function. To disable it completely, use on_unused_input='ignore'.\n",
      "  updates=updates_bg, allow_input_downcast=True,on_unused_input='warn')\n",
      "GaussianNet.py:155: UserWarning: theano.function was asked to create a function computing outputs given certain inputs, but the provided input variable at index 0 is not part of the computational graph needed to compute the outputs: X.\n",
      "To make this warning into an error, you can pass the parameter on_unused_input='raise' to theano.function. To disable it completely, use on_unused_input='ignore'.\n",
      "  on_unused_input='warn')\n",
      "GaussianNet.py:155: UserWarning: theano.function was asked to create a function computing outputs given certain inputs, but the provided input variable at index 1 is not part of the computational graph needed to compute the outputs: Y_in.\n",
      "To make this warning into an error, you can pass the parameter on_unused_input='raise' to theano.function. To disable it completely, use on_unused_input='ignore'.\n",
      "  on_unused_input='warn')\n",
      "GaussianNet.py:155: UserWarning: theano.function was asked to create a function computing outputs given certain inputs, but the provided input variable at index 2 is not part of the computational graph needed to compute the outputs: dropout.\n",
      "To make this warning into an error, you can pass the parameter on_unused_input='raise' to theano.function. To disable it completely, use on_unused_input='ignore'.\n",
      "  on_unused_input='warn')\n"
     ]
    },
    {
     "name": "stdout",
     "output_type": "stream",
     "text": [
      "Running inference for cam 0, fid 2000:\n",
      "Running inference for cam 0, fid 2010:\n",
      "Running inference for cam 0, fid 2020:\n",
      "Running inference for cam 0, fid 2030:\n",
      "Running inference for cam 0, fid 2040:\n",
      "Running inference for cam 0, fid 2050:\n",
      "Running inference for cam 0, fid 2060:\n",
      "Running inference for cam 0, fid 2070:\n",
      "Running inference for cam 0, fid 2080:\n",
      "Running inference for cam 0, fid 2090:\n",
      "Running inference for cam 0, fid 2100:\n",
      "Running inference for cam 0, fid 2110:\n",
      "Running inference for cam 0, fid 2120:\n",
      "Running inference for cam 0, fid 2130:\n",
      "Running inference for cam 0, fid 2140:\n",
      "Running inference for cam 0, fid 2150:\n",
      "Running inference for cam 0, fid 2160:\n",
      "Running inference for cam 0, fid 2170:\n",
      "Running inference for cam 0, fid 2180:\n",
      "Running inference for cam 0, fid 2190:\n",
      "Running inference for cam 0, fid 2200:\n",
      "Running inference for cam 0, fid 2210:\n",
      "Running inference for cam 0, fid 2220:\n",
      "Running inference for cam 0, fid 2230:\n",
      "Running inference for cam 0, fid 2240:\n",
      "Running inference for cam 0, fid 2250:\n",
      "Running inference for cam 0, fid 2260:\n",
      "Running inference for cam 0, fid 2270:\n",
      "Running inference for cam 0, fid 2280:\n",
      "Running inference for cam 0, fid 2290:\n",
      "Running inference for cam 0, fid 2300:\n",
      "Running inference for cam 0, fid 2310:\n",
      "Running inference for cam 0, fid 2320:\n",
      "Running inference for cam 0, fid 2330:\n",
      "Running inference for cam 0, fid 2340:\n",
      "Running inference for cam 0, fid 2350:\n",
      "Running inference for cam 0, fid 2360:\n"
     ]
    }
   ],
   "source": [
    "from GaussianNet import gaussianNet\n",
    "parts_predictor = gaussianNet()\n",
    "parts_predictor.run_inference(bg_pretrained = True,regression_pretrained = True,verbose = True)"
   ]
  },
  {
   "cell_type": "code",
   "execution_count": null,
   "metadata": {},
   "outputs": [],
   "source": []
  },
  {
   "cell_type": "code",
   "execution_count": null,
   "metadata": {},
   "outputs": [],
   "source": [
    "import skimage\n"
   ]
  },
  {
   "cell_type": "code",
   "execution_count": 12,
   "metadata": {
    "collapsed": true,
    "jupyter": {
     "outputs_hidden": true
    }
   },
   "outputs": [
    {
     "ename": "ImportError",
     "evalue": "No module named filters",
     "output_type": "error",
     "traceback": [
      "\u001b[0;31m---------------------------------------------------------------------------\u001b[0m",
      "\u001b[0;31mImportError\u001b[0m                               Traceback (most recent call last)",
      "\u001b[0;32m<ipython-input-12-9addca875d43>\u001b[0m in \u001b[0;36m<module>\u001b[0;34m()\u001b[0m\n\u001b[0;32m----> 1\u001b[0;31m \u001b[0;32mimport\u001b[0m \u001b[0mskimage\u001b[0m\u001b[0;34m.\u001b[0m\u001b[0mfilters\u001b[0m\u001b[0;34m\u001b[0m\u001b[0m\n\u001b[0m",
      "\u001b[0;31mImportError\u001b[0m: No module named filters"
     ]
    }
   ],
   "source": [
    "import skimage.filters"
   ]
  },
  {
   "cell_type": "code",
   "execution_count": null,
   "metadata": {},
   "outputs": [],
   "source": []
  },
  {
   "cell_type": "code",
   "execution_count": 2,
   "metadata": {},
   "outputs": [],
   "source": [
    "import cv2"
   ]
  },
  {
   "cell_type": "code",
   "execution_count": null,
   "metadata": {},
   "outputs": [],
   "source": []
  },
  {
   "cell_type": "code",
   "execution_count": null,
   "metadata": {},
   "outputs": [],
   "source": [
    "from skimage import filters"
   ]
  },
  {
   "cell_type": "code",
   "execution_count": null,
   "metadata": {},
   "outputs": [],
   "source": []
  },
  {
   "cell_type": "code",
   "execution_count": null,
   "metadata": {},
   "outputs": [],
   "source": []
  }
 ],
 "metadata": {
  "kernelspec": {
   "display_name": "Python 2",
   "language": "python",
   "name": "python2"
  },
  "language_info": {
   "codemirror_mode": {
    "name": "ipython",
    "version": 2
   },
   "file_extension": ".py",
   "mimetype": "text/x-python",
   "name": "python",
   "nbconvert_exporter": "python",
   "pygments_lexer": "ipython2",
   "version": "2.7.15"
  }
 },
 "nbformat": 4,
 "nbformat_minor": 4
}
